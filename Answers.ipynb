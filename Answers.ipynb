{
 "cells": [
  {
   "cell_type": "markdown",
   "metadata": {},
   "source": [
    "### Find the runner-up score"
   ]
  },
  {
   "cell_type": "code",
   "execution_count": null,
   "metadata": {
    "scrolled": true
   },
   "outputs": [],
   "source": [
    "n = int(input())\n",
    "# split() - split a string into a list where each word is a list item \n",
    "# map(function, iterables) execute a specified function to each item in an iterables e.g. list \n",
    "arr = map(int, input().split())\n",
    "L1 = list(arr)\n",
    "L1.sort(reverse = True) # ascending order, for descending order - reverse = True\n",
    "k = 0 \n",
    "largest = max(L1) # find the largest value of the list \n",
    "for i in range(n): \n",
    "    if L1[i]== largest:\n",
    "        k =  i + 1 \n",
    "print(L1[k]) "
   ]
  },
  {
   "cell_type": "markdown",
   "metadata": {},
   "source": [
    "### Nested Lists"
   ]
  },
  {
   "cell_type": "code",
   "execution_count": null,
   "metadata": {},
   "outputs": [],
   "source": [
    "L1 =[]\n",
    "# iterate expressions in the loop for n times\n",
    "N = int(input())\n",
    "for item in range(N):\n",
    "    name = input()\n",
    "    score = float(input())\n",
    "    L1.append([name,score])\n",
    "# set() only keep unique value\n",
    "L2 = sorted(list(set( x[1] for x in L1)))\n",
    "\n",
    "L3 = []\n",
    "for item in L1:\n",
    "    if item[1] == L2[1]:\n",
    "        L3.append(item[0])\n",
    "for i in sorted(L3):\n",
    "    print(i)"
   ]
  },
  {
   "cell_type": "markdown",
   "metadata": {},
   "source": [
    "### Finding the percentage"
   ]
  },
  {
   "cell_type": "code",
   "execution_count": null,
   "metadata": {},
   "outputs": [],
   "source": [
    "n = int(input())  # read the 1st input\n",
    "student_marks = {}\n",
    "for _ in range(n):   # iterate following expressions/equation(?) for n times\n",
    "# * is being used to grab additional returns from the split statement. In this case, name has the 1st element, and line is a list that contains the rest of n-1 elements\n",
    "    name, *line = input().split()\n",
    "    scores = list(map(float, line))\n",
    "    student_marks[name] = scores\n",
    "\n",
    "# define a function to calculate the average of a list\n",
    "def avg(query_name):\n",
    "    score_list = student_marks[query_name]\n",
    "    avg_score = sum(score_list) / len(score_list)\n",
    "    return avg_score \n",
    "\n",
    "query_name = input()\n",
    "print(\"%.2f\" % avg(query_name)) # keep 2 decimal points"
   ]
  },
  {
   "cell_type": "markdown",
   "metadata": {},
   "source": [
    "### Lists"
   ]
  },
  {
   "cell_type": "code",
   "execution_count": null,
   "metadata": {},
   "outputs": [],
   "source": [
    "# List is a collection which is ordered and changeable. Allows duplicate members.\n",
    "# Tuple is a collection which is ordered and unchangeable. Allows duplicate members.\n",
    "# python list/Array method \n",
    "# https://www.w3schools.com/python/python_ref_list.asp\n",
    "\n",
    "\n",
    "arr=[]\n",
    "N = int(input())\n",
    "for _ in range(N):\n",
    "    L1 = input().split()\n",
    "    if L1[0] == \"insert\":\n",
    "        arr.insert(int(L1[1]), int(L1[2]))\n",
    "    elif L1[0] == \"sort\": \n",
    "        arr.sort()\n",
    "    elif L1[0] == \"print\":\n",
    "        print(arr)\n",
    "    elif L1[0] == \"append\":\n",
    "        arr.append(int(L1[1]))\n",
    "    elif L1[0] ==\"pop\":\n",
    "        arr.pop()              # Pop the last element from the list \n",
    "    elif L1[0] == \"reverse\":\n",
    "        arr.reverse()  \n",
    "    elif L1[0] == \"remove\":      \n",
    "        arr.remove(int(L1[1]))  # remove e: Delete the first occurrence of integer e.\n"
   ]
  }
 ],
 "metadata": {
  "kernelspec": {
   "display_name": "Python 3",
   "language": "python",
   "name": "python3"
  },
  "language_info": {
   "codemirror_mode": {
    "name": "ipython",
    "version": 3
   },
   "file_extension": ".py",
   "mimetype": "text/x-python",
   "name": "python",
   "nbconvert_exporter": "python",
   "pygments_lexer": "ipython3",
   "version": "3.7.1"
  }
 },
 "nbformat": 4,
 "nbformat_minor": 2
}
